{
 "cells": [
  {
   "cell_type": "code",
   "execution_count": 30,
   "metadata": {},
   "outputs": [],
   "source": [
    "import numpy as np\n",
    "import pickle\n",
    "import os\n",
    "import tensorflow as tf\n",
    "import download\n",
    "import matplotlib.pyplot as plt\n",
    "%matplotlib inline\n",
    "\n",
    "from datetime import datetime\n",
    "\n",
    "from sklearn import metrics\n",
    "from sklearn.metrics import accuracy_score \n",
    "from sklearn.metrics import classification_report\n",
    "from sklearn.metrics import confusion_matrix\n",
    "\n",
    "\n",
    "from sklearn.model_selection import train_test_split\n",
    "from sklearn.model_selection import cross_val_score\n",
    "from sklearn.model_selection import cross_val_predict\n",
    "#from dataset import one_hot_encoded"
   ]
  },
  {
   "cell_type": "code",
   "execution_count": 31,
   "metadata": {},
   "outputs": [],
   "source": [
    "data_path = \"/Users/DEEPAK/Desktop/FALL 2018/EE-258/Project_A_CIFAR-10/cifar-10-python.tar/cifar-10-python\""
   ]
  },
  {
   "cell_type": "code",
   "execution_count": 32,
   "metadata": {},
   "outputs": [],
   "source": [
    "def get_filenames(data_path):\n",
    "    filenames = [os.path.join(data_path, 'cifar-10-batches-py', 'data_batch_%d' % i)\n",
    "    for i in range(1, 6)]\n",
    "    return filenames\n",
    "\n",
    "def get_classname(filename=\"\"):\n",
    "    \"\"\"\n",
    "    Return the full path of a data-file for the data-set.\n",
    "\n",
    "    If filename==\"\" then return the directory of the files.\n",
    "    \"\"\"\n",
    "\n",
    "    return os.path.join(data_path, \"cifar-10-batches-py/\", filename)\n",
    "\n",
    "\n",
    "def get_testfile(data_path):\n",
    "    testfile = [os.path.join(data_path, 'cifar-10-batches-py', 'test_batch')]\n",
    "    return testfile\n",
    "    \n",
    "\n",
    "                             \n",
    "def _unpickle(filename):\n",
    "    \"\"\"\n",
    "    Unpickle the given file and return the data.\n",
    "\n",
    "    Note that the appropriate dir-name is prepended the filename.\n",
    "    \"\"\"\n",
    "\n",
    "    # Create full path for the file.\n",
    "    file_path = get_classname(filename)\n",
    "\n",
    "    print(\"Loading data: \" + file_path)\n",
    "\n",
    "    with open(file_path, mode='rb') as file:\n",
    "        # In Python 3.X it is important to set the encoding,\n",
    "        # otherwise an exception is raised here.\n",
    "        data = pickle.load(file, encoding='bytes')\n",
    "\n",
    "    return data\n",
    "\n",
    "def unpickle(file):\n",
    "    with open(file, 'rb') as fo:\n",
    "        dict = pickle.load(fo, encoding='bytes')\n",
    "        data = dict[b'data']\n",
    "        label = dict[b'labels']\n",
    "    return dict"
   ]
  },
  {
   "cell_type": "code",
   "execution_count": 33,
   "metadata": {},
   "outputs": [],
   "source": [
    "def load_class_names():\n",
    "    \"\"\"\n",
    "    Load the names for the classes in the CIFAR-10 data-set.\n",
    "\n",
    "    Returns a list with the names. Example: names[3] is the name\n",
    "    associated with class-number 3.\n",
    "    \"\"\"\n",
    "\n",
    "    # Load the class-names from the pickled file.\n",
    "    raw = _unpickle(filename=\"batches.meta\")[b'label_names']\n",
    "\n",
    "    # Convert from binary strings.\n",
    "    names = [x.decode('utf-8') for x in raw]\n",
    "\n",
    "    return names"
   ]
  },
  {
   "cell_type": "code",
   "execution_count": 34,
   "metadata": {},
   "outputs": [
    {
     "name": "stdout",
     "output_type": "stream",
     "text": [
      "Loading data: /Users/DEEPAK/Desktop/FALL 2018/EE-258/Project_A_CIFAR-10/cifar-10-python.tar/cifar-10-python\\cifar-10-batches-py/batches.meta\n"
     ]
    },
    {
     "data": {
      "text/plain": [
       "['airplane',\n",
       " 'automobile',\n",
       " 'bird',\n",
       " 'cat',\n",
       " 'deer',\n",
       " 'dog',\n",
       " 'frog',\n",
       " 'horse',\n",
       " 'ship',\n",
       " 'truck']"
      ]
     },
     "execution_count": 34,
     "metadata": {},
     "output_type": "execute_result"
    }
   ],
   "source": [
    "load_class_names()"
   ]
  },
  {
   "cell_type": "code",
   "execution_count": 35,
   "metadata": {},
   "outputs": [],
   "source": [
    "all_labels = []\n",
    "all_data = []\n",
    "test_labels = []\n",
    "test_data = []\n",
    "num_batch_images = 10000\n",
    "channels = 3\n",
    "width = 32\n",
    "height = 32"
   ]
  },
  {
   "cell_type": "code",
   "execution_count": 36,
   "metadata": {},
   "outputs": [],
   "source": [
    "for filename in get_filenames('/Users/DEEPAK/Desktop/FALL 2018/EE-258/Project_A_CIFAR-10/cifar-10-python.tar/cifar-10-python'):\n",
    "    batch_dict = unpickle(filename)\n",
    "    all_labels.extend(batch_dict[b'labels'])\n",
    "    all_data.extend(np.reshape(batch_dict[b'data'], (num_batch_images, channels,width,height)))\n",
    "    \n",
    "    \n",
    "for testfile in get_testfile('/Users/DEEPAK/Desktop/FALL 2018/EE-258/Project_A_CIFAR-10/cifar-10-python.tar/cifar-10-python'):\n",
    "    test_dict = unpickle(filename)\n",
    "    test_labels.extend(batch_dict[b'labels'])\n",
    "    test_data.extend(np.reshape(batch_dict[b'data'], (num_batch_images, channels,width,height)))    "
   ]
  },
  {
   "cell_type": "code",
   "execution_count": 37,
   "metadata": {},
   "outputs": [],
   "source": [
    "train_X = np.asarray(all_data)\n",
    "train_Y = np.asarray(all_labels)\n",
    "\n",
    "test_X = np.asarray(test_data)\n",
    "test_Y = np.asarray(test_labels)"
   ]
  },
  {
   "cell_type": "code",
   "execution_count": 38,
   "metadata": {},
   "outputs": [
    {
     "name": "stdout",
     "output_type": "stream",
     "text": [
      "Shape of training data:\n",
      "(50000, 3, 32, 32)\n",
      "(50000,)\n",
      "Shape of test data:\n",
      "(10000, 3, 32, 32)\n",
      "(10000,)\n"
     ]
    }
   ],
   "source": [
    "print(\"Shape of training data:\")\n",
    "print(train_X.shape)\n",
    "print(train_Y.shape)\n",
    "print(\"Shape of test data:\")\n",
    "print(test_X.shape)\n",
    "print(test_Y.shape)"
   ]
  },
  {
   "cell_type": "code",
   "execution_count": 39,
   "metadata": {},
   "outputs": [
    {
     "name": "stdout",
     "output_type": "stream",
     "text": [
      "(32, 32, 3)\n"
     ]
    },
    {
     "data": {
      "text/plain": [
       "<matplotlib.image.AxesImage at 0x1ba3dd38b00>"
      ]
     },
     "execution_count": 39,
     "metadata": {},
     "output_type": "execute_result"
    },
    {
     "data": {
      "image/png": "[encoded data removed]",
      "text/plain": [
       "<Figure size 432x288 with 1 Axes>"
      ]
     },
     "metadata": {
      "needs_background": "light"
     },
     "output_type": "display_data"
    }
   ],
   "source": [
    "oneimage = all_data[1818].transpose(1, 2, 0)\n",
    "print(oneimage.shape)\n",
    "plt.imshow(oneimage)"
   ]
  },
  {
   "cell_type": "code",
   "execution_count": 40,
   "metadata": {},
   "outputs": [],
   "source": [
    "train_X = np.reshape(train_X,(50000,3072))\n",
    "test_X = np.reshape(test_X,(10000,3072))\n",
    "train_X = train_X.astype('float32')\n",
    "test_X = test_X.astype('float32')\n",
    "\n",
    "# Normalization of pixel values (to [0-1] range)\n",
    "\n",
    "train_X /= 255\n",
    "test_X /= 255"
   ]
  },
  {
   "cell_type": "code",
   "execution_count": 41,
   "metadata": {},
   "outputs": [
    {
     "data": {
      "text/plain": [
       "(50000, 3072)"
      ]
     },
     "execution_count": 41,
     "metadata": {},
     "output_type": "execute_result"
    }
   ],
   "source": [
    "train_X.shape"
   ]
  },
  {
   "cell_type": "code",
   "execution_count": 42,
   "metadata": {},
   "outputs": [
    {
     "data": {
      "text/plain": [
       "(50000,)"
      ]
     },
     "execution_count": 42,
     "metadata": {},
     "output_type": "execute_result"
    }
   ],
   "source": [
    "train_Y.shape"
   ]
  },
  {
   "cell_type": "code",
   "execution_count": 43,
   "metadata": {},
   "outputs": [],
   "source": [
    "import numpy as np\n",
    "shuffle_index = np.random.permutation(50000)\n",
    "train_X, train_Y = train_X[shuffle_index], train_Y[shuffle_index]"
   ]
  },
  {
   "cell_type": "code",
   "execution_count": 44,
   "metadata": {},
   "outputs": [
    {
     "name": "stdout",
     "output_type": "stream",
     "text": [
      "{0: 5000, 1: 5000, 2: 5000, 3: 5000, 4: 5000, 5: 5000, 6: 5000, 7: 5000, 8: 5000, 9: 5000}\n"
     ]
    }
   ],
   "source": [
    "digit_train, counts_train = np.unique(train_Y, return_counts = True)\n",
    "\n",
    "distribution_train = dict(zip(digit_train, counts_train))\n",
    "print(distribution_train )"
   ]
  },
  {
   "cell_type": "code",
   "execution_count": 45,
   "metadata": {},
   "outputs": [
    {
     "data": {
      "image/png": "[encoded data removed]",
      "text/plain": [
       "<Figure size 432x288 with 1 Axes>"
      ]
     },
     "metadata": {
      "needs_background": "light"
     },
     "output_type": "display_data"
    }
   ],
   "source": [
    "plt.bar(list(distribution_train.keys()),distribution_train.values(),width =0.6)\n",
    "plt.xlabel('Digit Number')\n",
    "plt.ylabel('Counts')\n",
    "plt.show()"
   ]
  },
  {
   "cell_type": "code",
   "execution_count": 46,
   "metadata": {},
   "outputs": [
    {
     "name": "stdout",
     "output_type": "stream",
     "text": [
      "{0: 1014, 1: 1014, 2: 952, 3: 1016, 4: 997, 5: 1025, 6: 980, 7: 977, 8: 1003, 9: 1022}\n"
     ]
    }
   ],
   "source": [
    "digit_test, counts_test = np.unique(test_Y, return_counts = True)\n",
    "\n",
    "distribution_test = dict(zip(digit_test, counts_test))\n",
    "print(distribution_test)"
   ]
  },
  {
   "cell_type": "code",
   "execution_count": 47,
   "metadata": {},
   "outputs": [
    {
     "data": {
      "image/png": "[encoded data removed]",
      "text/plain": [
       "<Figure size 432x288 with 1 Axes>"
      ]
     },
     "metadata": {
      "needs_background": "light"
     },
     "output_type": "display_data"
    }
   ],
   "source": [
    "plt.bar(list(distribution_test.keys()),distribution_test.values(),width =0.6)\n",
    "plt.xlabel('Digit Number')\n",
    "plt.ylabel('Counts')\n",
    "plt.show()"
   ]
  },
  {
   "cell_type": "code",
   "execution_count": 48,
   "metadata": {},
   "outputs": [],
   "source": [
    "train_Xv, X_val, train_Yv, Y_val  = train_test_split(train_X, train_Y, test_size = 1/10, random_state = 42)"
   ]
  },
  {
   "cell_type": "code",
   "execution_count": 49,
   "metadata": {},
   "outputs": [
    {
     "name": "stdout",
     "output_type": "stream",
     "text": [
      "(45000, 3072) (5000, 3072)\n",
      "(45000,) (5000,)\n"
     ]
    }
   ],
   "source": [
    "print(train_Xv.shape, X_val.shape)\n",
    "print(train_Yv.shape, Y_val.shape)"
   ]
  },
  {
   "cell_type": "markdown",
   "metadata": {},
   "source": [
    "# Quick Examination- performance with unscaled sample."
   ]
  },
  {
   "cell_type": "code",
   "execution_count": 50,
   "metadata": {},
   "outputs": [
    {
     "name": "stdout",
     "output_type": "stream",
     "text": [
      "WARNING:tensorflow:Using temporary folder as model directory: C:\\Users\\DEEPAK\\AppData\\Local\\Temp\\tmpn9lthyxf\n",
      "INFO:tensorflow:Using config: {'_task_type': None, '_task_id': 0, '_cluster_spec': <tensorflow.python.training.server_lib.ClusterSpec object at 0x000001BA3DD6E5C0>, '_master': '', '_num_ps_replicas': 0, '_num_worker_replicas': 0, '_environment': 'local', '_is_chief': True, '_evaluation_master': '', '_train_distribute': None, '_eval_distribute': None, '_device_fn': None, '_tf_config': gpu_options {\n",
      "  per_process_gpu_memory_fraction: 1.0\n",
      "}\n",
      ", '_tf_random_seed': 42, '_save_summary_steps': 100, '_save_checkpoints_secs': 600, '_log_step_count_steps': 100, '_protocol': None, '_session_config': None, '_save_checkpoints_steps': None, '_keep_checkpoint_max': 5, '_keep_checkpoint_every_n_hours': 10000, '_model_dir': 'C:\\\\Users\\\\DEEPAK\\\\AppData\\\\Local\\\\Temp\\\\tmpn9lthyxf'}\n",
      "INFO:tensorflow:Create CheckpointSaverHook.\n",
      "INFO:tensorflow:Graph was finalized.\n",
      "INFO:tensorflow:Running local_init_op.\n",
      "INFO:tensorflow:Done running local_init_op.\n",
      "INFO:tensorflow:Saving checkpoints for 0 into C:\\Users\\DEEPAK\\AppData\\Local\\Temp\\tmpn9lthyxf\\model.ckpt.\n",
      "INFO:tensorflow:loss = 2.445776, step = 1\n",
      "INFO:tensorflow:global_step/sec: 7.37911\n",
      "INFO:tensorflow:loss = 2.050782, step = 101 (13.553 sec)\n",
      "INFO:tensorflow:global_step/sec: 5.92861\n",
      "INFO:tensorflow:loss = 2.0818582, step = 201 (16.865 sec)\n",
      "INFO:tensorflow:global_step/sec: 6.08112\n",
      "INFO:tensorflow:loss = 1.9371208, step = 301 (16.444 sec)\n",
      "INFO:tensorflow:global_step/sec: 5.6137\n",
      "INFO:tensorflow:loss = 1.7368401, step = 401 (17.814 sec)\n",
      "INFO:tensorflow:global_step/sec: 5.68034\n",
      "INFO:tensorflow:loss = 1.6183164, step = 501 (17.608 sec)\n",
      "INFO:tensorflow:global_step/sec: 5.2878\n",
      "INFO:tensorflow:loss = 1.6679237, step = 601 (18.910 sec)\n",
      "INFO:tensorflow:global_step/sec: 5.39308\n",
      "INFO:tensorflow:loss = 1.6330023, step = 701 (18.546 sec)\n",
      "INFO:tensorflow:global_step/sec: 5.47115\n",
      "INFO:tensorflow:loss = 1.670037, step = 801 (18.272 sec)\n",
      "INFO:tensorflow:global_step/sec: 5.87561\n",
      "INFO:tensorflow:loss = 1.521021, step = 901 (17.020 sec)\n",
      "INFO:tensorflow:Saving checkpoints for 1000 into C:\\Users\\DEEPAK\\AppData\\Local\\Temp\\tmpn9lthyxf\\model.ckpt.\n",
      "INFO:tensorflow:Loss for final step: 1.4983642.\n"
     ]
    },
    {
     "data": {
      "text/plain": [
       "SKCompat()"
      ]
     },
     "execution_count": 50,
     "metadata": {},
     "output_type": "execute_result"
    }
   ],
   "source": [
    "config = tf.contrib.learn.RunConfig(tf_random_seed=42) \n",
    "# set the random seed for tensorflow initializers(for consistency between reruns)\n",
    "\n",
    "feature_columns = tf.contrib.learn.infer_real_valued_columns_from_input(train_Xv)\n",
    "dnn_clf = tf.contrib.learn.DNNClassifier(hidden_units=[3072], n_classes=10, feature_columns=feature_columns, config=config)\n",
    "dnn_clf = tf.contrib.learn.SKCompat(dnn_clf) # to be compatible with sklearn\n",
    "dnn_clf.fit(train_Xv, train_Yv, batch_size=450, steps=1000)"
   ]
  },
  {
   "cell_type": "code",
   "execution_count": 23,
   "metadata": {},
   "outputs": [
    {
     "name": "stdout",
     "output_type": "stream",
     "text": [
      "INFO:tensorflow:Graph was finalized.\n",
      "INFO:tensorflow:Restoring parameters from C:\\Users\\DEEPAK\\AppData\\Local\\Temp\\tmpp2fs_c2x\\model.ckpt-1000\n",
      "INFO:tensorflow:Running local_init_op.\n",
      "INFO:tensorflow:Done running local_init_op.\n",
      "dict_keys(['logits', 'probabilities', 'classes'])\n"
     ]
    },
    {
     "data": {
      "text/plain": [
       "0.44"
      ]
     },
     "execution_count": 23,
     "metadata": {},
     "output_type": "execute_result"
    }
   ],
   "source": [
    "y_pred = dnn_clf.predict(X_val)\n",
    "print(y_pred.keys())\n",
    "accuracy_score(Y_val, y_pred['classes'])"
   ]
  },
  {
   "cell_type": "markdown",
   "metadata": {},
   "source": [
    "\n",
    "# Now using feature scaling to get a better result."
   ]
  },
  {
   "cell_type": "code",
   "execution_count": 24,
   "metadata": {},
   "outputs": [],
   "source": [
    "from sklearn.preprocessing import StandardScaler\n",
    "scaler = StandardScaler()\n",
    "X_train_scaled = scaler.fit_transform(train_Xv.astype(np.float32))\n",
    "X_val_scaled = scaler.fit_transform(X_val.astype(np.float32))\n",
    "X_test_scaled = scaler.fit_transform(test_X.astype(np.float32))"
   ]
  },
  {
   "cell_type": "code",
   "execution_count": 25,
   "metadata": {},
   "outputs": [
    {
     "name": "stdout",
     "output_type": "stream",
     "text": [
      "WARNING:tensorflow:Using temporary folder as model directory: C:\\Users\\DEEPAK\\AppData\\Local\\Temp\\tmpgt2i3omj\n",
      "INFO:tensorflow:Using config: {'_task_type': None, '_task_id': 0, '_cluster_spec': <tensorflow.python.training.server_lib.ClusterSpec object at 0x000001BA411BE978>, '_master': '', '_num_ps_replicas': 0, '_num_worker_replicas': 0, '_environment': 'local', '_is_chief': True, '_evaluation_master': '', '_train_distribute': None, '_eval_distribute': None, '_device_fn': None, '_tf_config': gpu_options {\n",
      "  per_process_gpu_memory_fraction: 1.0\n",
      "}\n",
      ", '_tf_random_seed': 42, '_save_summary_steps': 100, '_save_checkpoints_secs': 600, '_log_step_count_steps': 100, '_protocol': None, '_session_config': None, '_save_checkpoints_steps': None, '_keep_checkpoint_max': 5, '_keep_checkpoint_every_n_hours': 10000, '_model_dir': 'C:\\\\Users\\\\DEEPAK\\\\AppData\\\\Local\\\\Temp\\\\tmpgt2i3omj'}\n",
      "INFO:tensorflow:Create CheckpointSaverHook.\n",
      "INFO:tensorflow:Graph was finalized.\n",
      "INFO:tensorflow:Running local_init_op.\n",
      "INFO:tensorflow:Done running local_init_op.\n",
      "INFO:tensorflow:Saving checkpoints for 0 into C:\\Users\\DEEPAK\\AppData\\Local\\Temp\\tmpgt2i3omj\\model.ckpt.\n",
      "INFO:tensorflow:loss = 2.6957154, step = 1\n",
      "INFO:tensorflow:global_step/sec: 5.38761\n",
      "INFO:tensorflow:loss = 1.7650903, step = 101 (18.562 sec)\n",
      "INFO:tensorflow:global_step/sec: 5.38554\n",
      "INFO:tensorflow:loss = 1.5356085, step = 201 (18.568 sec)\n",
      "INFO:tensorflow:global_step/sec: 5.37165\n",
      "INFO:tensorflow:loss = 1.3710011, step = 301 (18.616 sec)\n",
      "INFO:tensorflow:global_step/sec: 4.79007\n",
      "INFO:tensorflow:loss = 1.2585506, step = 401 (20.878 sec)\n",
      "INFO:tensorflow:global_step/sec: 5.28674\n",
      "INFO:tensorflow:loss = 1.4258565, step = 501 (18.912 sec)\n",
      "INFO:tensorflow:global_step/sec: 5.377\n",
      "INFO:tensorflow:loss = 1.353952, step = 601 (18.613 sec)\n",
      "INFO:tensorflow:global_step/sec: 5.41221\n",
      "INFO:tensorflow:loss = 1.176685, step = 701 (18.477 sec)\n",
      "INFO:tensorflow:global_step/sec: 5.30037\n",
      "INFO:tensorflow:loss = 1.0681515, step = 801 (18.854 sec)\n",
      "INFO:tensorflow:global_step/sec: 5.47425\n",
      "INFO:tensorflow:loss = 1.3272387, step = 901 (18.266 sec)\n",
      "INFO:tensorflow:Saving checkpoints for 1000 into C:\\Users\\DEEPAK\\AppData\\Local\\Temp\\tmpgt2i3omj\\model.ckpt.\n",
      "INFO:tensorflow:Loss for final step: 1.4460115.\n"
     ]
    },
    {
     "data": {
      "text/plain": [
       "SKCompat()"
      ]
     },
     "execution_count": 25,
     "metadata": {},
     "output_type": "execute_result"
    }
   ],
   "source": [
    "config = tf.contrib.learn.RunConfig(tf_random_seed=42)\n",
    "# set the random seed for tensorflow initializers(for consistency between reruns)\n",
    "\n",
    "feature_columns = tf.contrib.learn.infer_real_valued_columns_from_input(X_train_scaled)\n",
    "dnn_clf = tf.contrib.learn.DNNClassifier(hidden_units=[3072], n_classes=10,\n",
    "                                         feature_columns=feature_columns, config=config)\n",
    "dnn_clf = tf.contrib.learn.SKCompat(dnn_clf) # to be compatible with sklearn\n",
    "dnn_clf.fit(X_train_scaled, train_Yv, batch_size=450, steps=1000)"
   ]
  },
  {
   "cell_type": "code",
   "execution_count": 27,
   "metadata": {},
   "outputs": [
    {
     "name": "stdout",
     "output_type": "stream",
     "text": [
      "WARNING:tensorflow:Using temporary folder as model directory: C:\\Users\\DEEPAK\\AppData\\Local\\Temp\\tmpkvgvxifu\n",
      "INFO:tensorflow:Using config: {'_task_type': None, '_task_id': 0, '_cluster_spec': <tensorflow.python.training.server_lib.ClusterSpec object at 0x000001BA411BE6D8>, '_master': '', '_num_ps_replicas': 0, '_num_worker_replicas': 0, '_environment': 'local', '_is_chief': True, '_evaluation_master': '', '_train_distribute': None, '_eval_distribute': None, '_device_fn': None, '_tf_config': gpu_options {\n",
      "  per_process_gpu_memory_fraction: 1.0\n",
      "}\n",
      ", '_tf_random_seed': 42, '_save_summary_steps': 100, '_save_checkpoints_secs': 600, '_log_step_count_steps': 100, '_protocol': None, '_session_config': None, '_save_checkpoints_steps': None, '_keep_checkpoint_max': 5, '_keep_checkpoint_every_n_hours': 10000, '_model_dir': 'C:\\\\Users\\\\DEEPAK\\\\AppData\\\\Local\\\\Temp\\\\tmpkvgvxifu'}\n",
      "INFO:tensorflow:Create CheckpointSaverHook.\n",
      "INFO:tensorflow:Graph was finalized.\n",
      "INFO:tensorflow:Running local_init_op.\n",
      "INFO:tensorflow:Done running local_init_op.\n",
      "INFO:tensorflow:Saving checkpoints for 0 into C:\\Users\\DEEPAK\\AppData\\Local\\Temp\\tmpkvgvxifu\\model.ckpt.\n",
      "INFO:tensorflow:loss = 3.0397363, step = 1\n",
      "INFO:tensorflow:global_step/sec: 104.445\n",
      "INFO:tensorflow:loss = 2.3671713, step = 101 (0.958 sec)\n",
      "INFO:tensorflow:global_step/sec: 109.702\n",
      "INFO:tensorflow:loss = 2.3640819, step = 201 (0.913 sec)\n",
      "INFO:tensorflow:global_step/sec: 116.998\n",
      "INFO:tensorflow:loss = 2.4649866, step = 301 (0.854 sec)\n",
      "INFO:tensorflow:global_step/sec: 117.547\n",
      "INFO:tensorflow:loss = 2.4016876, step = 401 (0.851 sec)\n",
      "INFO:tensorflow:global_step/sec: 116.725\n",
      "INFO:tensorflow:loss = 2.352144, step = 501 (0.857 sec)\n",
      "INFO:tensorflow:global_step/sec: 116.588\n",
      "INFO:tensorflow:loss = 2.296908, step = 601 (0.858 sec)\n",
      "INFO:tensorflow:global_step/sec: 113.17\n",
      "INFO:tensorflow:loss = 2.3330572, step = 701 (0.884 sec)\n",
      "INFO:tensorflow:global_step/sec: 98.0131\n",
      "INFO:tensorflow:loss = 2.4115202, step = 801 (1.021 sec)\n",
      "INFO:tensorflow:global_step/sec: 105.879\n",
      "INFO:tensorflow:loss = 2.4242606, step = 901 (0.944 sec)\n",
      "INFO:tensorflow:global_step/sec: 109.105\n",
      "INFO:tensorflow:loss = 2.3336787, step = 1001 (0.916 sec)\n",
      "INFO:tensorflow:global_step/sec: 95.6748\n",
      "INFO:tensorflow:loss = 2.3093116, step = 1101 (1.046 sec)\n",
      "INFO:tensorflow:global_step/sec: 101.383\n",
      "INFO:tensorflow:loss = 2.3615737, step = 1201 (0.986 sec)\n",
      "INFO:tensorflow:global_step/sec: 99.6691\n",
      "INFO:tensorflow:loss = 2.396834, step = 1301 (1.002 sec)\n",
      "INFO:tensorflow:global_step/sec: 95.5838\n",
      "INFO:tensorflow:loss = 2.3480744, step = 1401 (1.047 sec)\n",
      "INFO:tensorflow:global_step/sec: 92.4122\n",
      "INFO:tensorflow:loss = 2.3478265, step = 1501 (1.082 sec)\n",
      "INFO:tensorflow:global_step/sec: 99.6693\n",
      "INFO:tensorflow:loss = 2.2964983, step = 1601 (1.002 sec)\n",
      "INFO:tensorflow:global_step/sec: 98.4944\n",
      "INFO:tensorflow:loss = 2.3151622, step = 1701 (1.017 sec)\n",
      "INFO:tensorflow:global_step/sec: 78.9505\n",
      "INFO:tensorflow:loss = 2.289452, step = 1801 (1.266 sec)\n",
      "INFO:tensorflow:global_step/sec: 80.2782\n",
      "INFO:tensorflow:loss = 2.3617377, step = 1901 (1.246 sec)\n",
      "INFO:tensorflow:global_step/sec: 90.6576\n",
      "INFO:tensorflow:loss = 2.2688887, step = 2001 (1.103 sec)\n",
      "INFO:tensorflow:global_step/sec: 91.5684\n",
      "INFO:tensorflow:loss = 2.3781452, step = 2101 (1.091 sec)\n",
      "INFO:tensorflow:global_step/sec: 91.9884\n",
      "INFO:tensorflow:loss = 2.275828, step = 2201 (1.088 sec)\n",
      "INFO:tensorflow:global_step/sec: 90.9865\n",
      "INFO:tensorflow:loss = 2.2461867, step = 2301 (1.099 sec)\n",
      "INFO:tensorflow:global_step/sec: 92.4976\n",
      "INFO:tensorflow:loss = 2.3293662, step = 2401 (1.080 sec)\n",
      "INFO:tensorflow:global_step/sec: 92.0727\n",
      "INFO:tensorflow:loss = 2.2383301, step = 2501 (1.086 sec)\n",
      "INFO:tensorflow:global_step/sec: 81.8509\n",
      "INFO:tensorflow:loss = 2.3312216, step = 2601 (1.223 sec)\n",
      "INFO:tensorflow:global_step/sec: 91.9883\n",
      "INFO:tensorflow:loss = 2.3052807, step = 2701 (1.087 sec)\n",
      "INFO:tensorflow:global_step/sec: 85.7719\n",
      "INFO:tensorflow:loss = 2.3854632, step = 2801 (1.166 sec)\n",
      "INFO:tensorflow:global_step/sec: 87.8767\n",
      "INFO:tensorflow:loss = 2.2608967, step = 2901 (1.138 sec)\n",
      "INFO:tensorflow:global_step/sec: 81.4247\n",
      "INFO:tensorflow:loss = 2.2594662, step = 3001 (1.228 sec)\n",
      "INFO:tensorflow:global_step/sec: 90.124\n",
      "INFO:tensorflow:loss = 2.2356994, step = 3101 (1.110 sec)\n",
      "INFO:tensorflow:global_step/sec: 74.8822\n",
      "INFO:tensorflow:loss = 2.169088, step = 3201 (1.336 sec)\n",
      "INFO:tensorflow:global_step/sec: 75.0503\n",
      "INFO:tensorflow:loss = 2.3024678, step = 3301 (1.332 sec)\n",
      "INFO:tensorflow:global_step/sec: 74.826\n",
      "INFO:tensorflow:loss = 2.2961404, step = 3401 (1.336 sec)\n",
      "INFO:tensorflow:global_step/sec: 73.9984\n",
      "INFO:tensorflow:loss = 2.2080789, step = 3501 (1.351 sec)\n",
      "INFO:tensorflow:global_step/sec: 76.7743\n",
      "INFO:tensorflow:loss = 2.3167024, step = 3601 (1.303 sec)\n",
      "INFO:tensorflow:global_step/sec: 74.8263\n",
      "INFO:tensorflow:loss = 2.2584534, step = 3701 (1.336 sec)\n",
      "INFO:tensorflow:global_step/sec: 74.3823\n",
      "INFO:tensorflow:loss = 2.3830764, step = 3801 (1.343 sec)\n",
      "INFO:tensorflow:global_step/sec: 75.6734\n",
      "INFO:tensorflow:loss = 2.322967, step = 3901 (1.321 sec)\n",
      "INFO:tensorflow:global_step/sec: 75.3324\n",
      "INFO:tensorflow:loss = 2.2927818, step = 4001 (1.327 sec)\n",
      "INFO:tensorflow:global_step/sec: 75.73\n",
      "INFO:tensorflow:loss = 2.2811084, step = 4101 (1.321 sec)\n",
      "INFO:tensorflow:global_step/sec: 71.9256\n",
      "INFO:tensorflow:loss = 2.3066354, step = 4201 (1.389 sec)\n",
      "INFO:tensorflow:global_step/sec: 78.2831\n",
      "INFO:tensorflow:loss = 2.2265563, step = 4301 (1.277 sec)\n",
      "INFO:tensorflow:global_step/sec: 75.389\n",
      "INFO:tensorflow:loss = 2.2066078, step = 4401 (1.326 sec)\n",
      "INFO:tensorflow:global_step/sec: 74.5482\n",
      "INFO:tensorflow:loss = 2.30675, step = 4501 (1.341 sec)\n",
      "INFO:tensorflow:global_step/sec: 75.4456\n",
      "INFO:tensorflow:loss = 2.3425834, step = 4601 (1.325 sec)\n",
      "INFO:tensorflow:global_step/sec: 75.1067\n",
      "INFO:tensorflow:loss = 2.4876986, step = 4701 (1.331 sec)\n",
      "INFO:tensorflow:global_step/sec: 78.1981\n",
      "INFO:tensorflow:loss = 2.238479, step = 4801 (1.279 sec)\n",
      "INFO:tensorflow:global_step/sec: 84.3808\n",
      "INFO:tensorflow:loss = 2.3032718, step = 4901 (1.185 sec)\n",
      "INFO:tensorflow:global_step/sec: 89.6975\n",
      "INFO:tensorflow:loss = 2.288538, step = 5001 (1.113 sec)\n",
      "INFO:tensorflow:global_step/sec: 83.1325\n",
      "INFO:tensorflow:loss = 2.3041124, step = 5101 (1.205 sec)\n",
      "INFO:tensorflow:global_step/sec: 84.4713\n",
      "INFO:tensorflow:loss = 2.188076, step = 5201 (1.184 sec)\n",
      "INFO:tensorflow:global_step/sec: 88.6537\n",
      "INFO:tensorflow:loss = 2.2498097, step = 5301 (1.128 sec)\n",
      "INFO:tensorflow:global_step/sec: 89.1264\n",
      "INFO:tensorflow:loss = 2.381932, step = 5401 (1.122 sec)\n",
      "INFO:tensorflow:Saving checkpoints for 5500 into C:\\Users\\DEEPAK\\AppData\\Local\\Temp\\tmpkvgvxifu\\model.ckpt.\n",
      "INFO:tensorflow:Loss for final step: 2.27043.\n"
     ]
    },
    {
     "data": {
      "text/plain": [
       "SKCompat()"
      ]
     },
     "execution_count": 27,
     "metadata": {},
     "output_type": "execute_result"
    }
   ],
   "source": [
    "Nron_opt = 675\n",
    "config = tf.contrib.learn.RunConfig(tf_random_seed=42)\n",
    "# set the random seed for tensorflow initializers(for consistency between reruns)\n",
    "\n",
    "feature_columns = tf.contrib.learn.infer_real_valued_columns_from_input(X_train_scaled)\n",
    "dnn_clf_opt = tf.contrib.learn.DNNClassifier(hidden_units=[Nron_opt], n_classes=10,\n",
    "                                         feature_columns=feature_columns, config=config)\n",
    "dnn_clf_opt = tf.contrib.learn.SKCompat(dnn_clf_opt) # if TensorFlow >= 1.1\n",
    "dnn_clf_opt.fit(X_train_scaled, train_Y, batch_size=64, steps=5500)"
   ]
  },
  {
   "cell_type": "code",
   "execution_count": 29,
   "metadata": {},
   "outputs": [
    {
     "name": "stdout",
     "output_type": "stream",
     "text": [
      "INFO:tensorflow:Graph was finalized.\n",
      "INFO:tensorflow:Restoring parameters from C:\\Users\\DEEPAK\\AppData\\Local\\Temp\\tmpkvgvxifu\\model.ckpt-5500\n",
      "INFO:tensorflow:Running local_init_op.\n",
      "INFO:tensorflow:Done running local_init_op.\n"
     ]
    },
    {
     "data": {
      "text/plain": [
       "0.081"
      ]
     },
     "execution_count": 29,
     "metadata": {},
     "output_type": "execute_result"
    }
   ],
   "source": [
    "y_test_pred = dnn_clf_opt.predict(X_test_scaled)\n",
    "accuracy_score(test_Y, y_test_pred['classes'])"
   ]
  },
  {
   "cell_type": "code",
   "execution_count": null,
   "metadata": {},
   "outputs": [],
   "source": []
  }
 ],
 "metadata": {
  "kernelspec": {
   "display_name": "Python 3",
   "language": "python",
   "name": "python3"
  },
  "language_info": {
   "codemirror_mode": {
    "name": "ipython",
    "version": 3
   },
   "file_extension": ".py",
   "mimetype": "text/x-python",
   "name": "python",
   "nbconvert_exporter": "python",
   "pygments_lexer": "ipython3",
   "version": "3.6.7"
  }
 },
 "nbformat": 4,
 "nbformat_minor": 2
}
